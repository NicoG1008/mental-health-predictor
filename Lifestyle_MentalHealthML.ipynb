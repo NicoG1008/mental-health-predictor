{
  "nbformat": 4,
  "nbformat_minor": 0,
  "metadata": {
    "colab": {
      "provenance": []
    },
    "kernelspec": {
      "name": "python3",
      "display_name": "Python 3"
    },
    "language_info": {
      "name": "python"
    }
  },
  "cells": [
    {
      "cell_type": "markdown",
      "source": [
        "## Lifestyle and Mental Health ML Project - Nico Gamboa 07/12/2025"
      ],
      "metadata": {
        "id": "TkHIfRqFm1F7"
      }
    },
    {
      "cell_type": "markdown",
      "source": [
        "**Introduction**\n",
        "\n",
        "This entry-level machine learning project combines data management and basic machine learning with the growing focus on mental health. 3 machine learning models use lifestyle factors to predict mental health outcomes based on a given dataset. The goal of this project is to analyze the potential causal relationship of lifestyle factors on mental health, while practicing basic machine learning techniques."
      ],
      "metadata": {
        "id": "v6QsMyJonHoD"
      }
    },
    {
      "cell_type": "markdown",
      "source": [
        "**Dataset Overview**\n",
        "\n",
        "The dataset used for this project was obtained as an open-access CSV from Kaggle user Atharva Soundankar and is called \"Mental Health and Lifestyle Habits (2019-2024).\" It contains 3000 samples over 5 years detailing lifestyle factors and mental health conditions. Lifestyle factors including diet, exercise, stress, work hours, social interaction, sleep, and screen time were used as features and the binary presence of a mental health condition the target variable."
      ],
      "metadata": {
        "id": "PXhlUTRHoXya"
      }
    },
    {
      "cell_type": "markdown",
      "source": [
        "**Data Reprocessing**\n",
        "\n",
        "The dataset was already clean and consistent, requiring minimal cleaning. Issues with the datatypes of the loaded columns did require processing, however. Mental health conditions had to be converted from floats and NaN to bianry yes/no values. Categorical columns like \"Exercise Level\" had to be converted from low/moderate/high to numerical values as well."
      ],
      "metadata": {
        "id": "zwuCTQfhsy9V"
      }
    },
    {
      "cell_type": "markdown",
      "source": [
        "**Modeling**\n",
        "\n",
        "The data was first fed into a logistic regression model and analyzed for accuracy. A RandomForest model was then used to obtain more accurate predictions, with some success. Finally, an XGBoost model was tested, but did not perform as well as the RandomForest model. Finally, the two more advanced models were tuned for estimators, depth, and learning time to maximize accuracy."
      ],
      "metadata": {
        "id": "AnZev24CzPVx"
      }
    },
    {
      "cell_type": "markdown",
      "source": [
        "### Dataset Preparation"
      ],
      "metadata": {
        "id": "bq6w5MZk4JN7"
      }
    },
    {
      "cell_type": "code",
      "execution_count": 83,
      "metadata": {
        "colab": {
          "base_uri": "https://localhost:8080/",
          "height": 278
        },
        "id": "_RmcwUSuPY8e",
        "outputId": "7d08ed2c-6a71-4ed1-eb69-3b7c1d14e3a7"
      },
      "outputs": [
        {
          "output_type": "execute_result",
          "data": {
            "text/plain": [
              "     Country  Age  Gender Exercise Level   Diet Type  Sleep Hours  \\\n",
              "0     Brazil   48    Male            Low  Vegetarian          6.3   \n",
              "1  Australia   31    Male       Moderate       Vegan          4.9   \n",
              "2      Japan   37  Female            Low  Vegetarian          7.2   \n",
              "3     Brazil   35    Male            Low       Vegan          7.2   \n",
              "4    Germany   46    Male            Low    Balanced          7.3   \n",
              "\n",
              "  Stress Level Mental Health Condition  Work Hours per Week  \\\n",
              "0          Low                     NaN                   21   \n",
              "1          Low                    PTSD                   48   \n",
              "2         High                     NaN                   43   \n",
              "3          Low              Depression                   43   \n",
              "4          Low                 Anxiety                   35   \n",
              "\n",
              "   Screen Time per Day (Hours)  Social Interaction Score  Happiness Score  \n",
              "0                          4.0                       7.8              6.5  \n",
              "1                          5.2                       8.2              6.8  \n",
              "2                          4.7                       9.6              9.7  \n",
              "3                          2.2                       8.2              6.6  \n",
              "4                          3.6                       4.7              4.4  "
            ],
            "text/html": [
              "\n",
              "  <div id=\"df-7879ae16-64a9-4800-b120-dfdad034570d\" class=\"colab-df-container\">\n",
              "    <div>\n",
              "<style scoped>\n",
              "    .dataframe tbody tr th:only-of-type {\n",
              "        vertical-align: middle;\n",
              "    }\n",
              "\n",
              "    .dataframe tbody tr th {\n",
              "        vertical-align: top;\n",
              "    }\n",
              "\n",
              "    .dataframe thead th {\n",
              "        text-align: right;\n",
              "    }\n",
              "</style>\n",
              "<table border=\"1\" class=\"dataframe\">\n",
              "  <thead>\n",
              "    <tr style=\"text-align: right;\">\n",
              "      <th></th>\n",
              "      <th>Country</th>\n",
              "      <th>Age</th>\n",
              "      <th>Gender</th>\n",
              "      <th>Exercise Level</th>\n",
              "      <th>Diet Type</th>\n",
              "      <th>Sleep Hours</th>\n",
              "      <th>Stress Level</th>\n",
              "      <th>Mental Health Condition</th>\n",
              "      <th>Work Hours per Week</th>\n",
              "      <th>Screen Time per Day (Hours)</th>\n",
              "      <th>Social Interaction Score</th>\n",
              "      <th>Happiness Score</th>\n",
              "    </tr>\n",
              "  </thead>\n",
              "  <tbody>\n",
              "    <tr>\n",
              "      <th>0</th>\n",
              "      <td>Brazil</td>\n",
              "      <td>48</td>\n",
              "      <td>Male</td>\n",
              "      <td>Low</td>\n",
              "      <td>Vegetarian</td>\n",
              "      <td>6.3</td>\n",
              "      <td>Low</td>\n",
              "      <td>NaN</td>\n",
              "      <td>21</td>\n",
              "      <td>4.0</td>\n",
              "      <td>7.8</td>\n",
              "      <td>6.5</td>\n",
              "    </tr>\n",
              "    <tr>\n",
              "      <th>1</th>\n",
              "      <td>Australia</td>\n",
              "      <td>31</td>\n",
              "      <td>Male</td>\n",
              "      <td>Moderate</td>\n",
              "      <td>Vegan</td>\n",
              "      <td>4.9</td>\n",
              "      <td>Low</td>\n",
              "      <td>PTSD</td>\n",
              "      <td>48</td>\n",
              "      <td>5.2</td>\n",
              "      <td>8.2</td>\n",
              "      <td>6.8</td>\n",
              "    </tr>\n",
              "    <tr>\n",
              "      <th>2</th>\n",
              "      <td>Japan</td>\n",
              "      <td>37</td>\n",
              "      <td>Female</td>\n",
              "      <td>Low</td>\n",
              "      <td>Vegetarian</td>\n",
              "      <td>7.2</td>\n",
              "      <td>High</td>\n",
              "      <td>NaN</td>\n",
              "      <td>43</td>\n",
              "      <td>4.7</td>\n",
              "      <td>9.6</td>\n",
              "      <td>9.7</td>\n",
              "    </tr>\n",
              "    <tr>\n",
              "      <th>3</th>\n",
              "      <td>Brazil</td>\n",
              "      <td>35</td>\n",
              "      <td>Male</td>\n",
              "      <td>Low</td>\n",
              "      <td>Vegan</td>\n",
              "      <td>7.2</td>\n",
              "      <td>Low</td>\n",
              "      <td>Depression</td>\n",
              "      <td>43</td>\n",
              "      <td>2.2</td>\n",
              "      <td>8.2</td>\n",
              "      <td>6.6</td>\n",
              "    </tr>\n",
              "    <tr>\n",
              "      <th>4</th>\n",
              "      <td>Germany</td>\n",
              "      <td>46</td>\n",
              "      <td>Male</td>\n",
              "      <td>Low</td>\n",
              "      <td>Balanced</td>\n",
              "      <td>7.3</td>\n",
              "      <td>Low</td>\n",
              "      <td>Anxiety</td>\n",
              "      <td>35</td>\n",
              "      <td>3.6</td>\n",
              "      <td>4.7</td>\n",
              "      <td>4.4</td>\n",
              "    </tr>\n",
              "  </tbody>\n",
              "</table>\n",
              "</div>\n",
              "    <div class=\"colab-df-buttons\">\n",
              "\n",
              "  <div class=\"colab-df-container\">\n",
              "    <button class=\"colab-df-convert\" onclick=\"convertToInteractive('df-7879ae16-64a9-4800-b120-dfdad034570d')\"\n",
              "            title=\"Convert this dataframe to an interactive table.\"\n",
              "            style=\"display:none;\">\n",
              "\n",
              "  <svg xmlns=\"http://www.w3.org/2000/svg\" height=\"24px\" viewBox=\"0 -960 960 960\">\n",
              "    <path d=\"M120-120v-720h720v720H120Zm60-500h600v-160H180v160Zm220 220h160v-160H400v160Zm0 220h160v-160H400v160ZM180-400h160v-160H180v160Zm440 0h160v-160H620v160ZM180-180h160v-160H180v160Zm440 0h160v-160H620v160Z\"/>\n",
              "  </svg>\n",
              "    </button>\n",
              "\n",
              "  <style>\n",
              "    .colab-df-container {\n",
              "      display:flex;\n",
              "      gap: 12px;\n",
              "    }\n",
              "\n",
              "    .colab-df-convert {\n",
              "      background-color: #E8F0FE;\n",
              "      border: none;\n",
              "      border-radius: 50%;\n",
              "      cursor: pointer;\n",
              "      display: none;\n",
              "      fill: #1967D2;\n",
              "      height: 32px;\n",
              "      padding: 0 0 0 0;\n",
              "      width: 32px;\n",
              "    }\n",
              "\n",
              "    .colab-df-convert:hover {\n",
              "      background-color: #E2EBFA;\n",
              "      box-shadow: 0px 1px 2px rgba(60, 64, 67, 0.3), 0px 1px 3px 1px rgba(60, 64, 67, 0.15);\n",
              "      fill: #174EA6;\n",
              "    }\n",
              "\n",
              "    .colab-df-buttons div {\n",
              "      margin-bottom: 4px;\n",
              "    }\n",
              "\n",
              "    [theme=dark] .colab-df-convert {\n",
              "      background-color: #3B4455;\n",
              "      fill: #D2E3FC;\n",
              "    }\n",
              "\n",
              "    [theme=dark] .colab-df-convert:hover {\n",
              "      background-color: #434B5C;\n",
              "      box-shadow: 0px 1px 3px 1px rgba(0, 0, 0, 0.15);\n",
              "      filter: drop-shadow(0px 1px 2px rgba(0, 0, 0, 0.3));\n",
              "      fill: #FFFFFF;\n",
              "    }\n",
              "  </style>\n",
              "\n",
              "    <script>\n",
              "      const buttonEl =\n",
              "        document.querySelector('#df-7879ae16-64a9-4800-b120-dfdad034570d button.colab-df-convert');\n",
              "      buttonEl.style.display =\n",
              "        google.colab.kernel.accessAllowed ? 'block' : 'none';\n",
              "\n",
              "      async function convertToInteractive(key) {\n",
              "        const element = document.querySelector('#df-7879ae16-64a9-4800-b120-dfdad034570d');\n",
              "        const dataTable =\n",
              "          await google.colab.kernel.invokeFunction('convertToInteractive',\n",
              "                                                    [key], {});\n",
              "        if (!dataTable) return;\n",
              "\n",
              "        const docLinkHtml = 'Like what you see? Visit the ' +\n",
              "          '<a target=\"_blank\" href=https://colab.research.google.com/notebooks/data_table.ipynb>data table notebook</a>'\n",
              "          + ' to learn more about interactive tables.';\n",
              "        element.innerHTML = '';\n",
              "        dataTable['output_type'] = 'display_data';\n",
              "        await google.colab.output.renderOutput(dataTable, element);\n",
              "        const docLink = document.createElement('div');\n",
              "        docLink.innerHTML = docLinkHtml;\n",
              "        element.appendChild(docLink);\n",
              "      }\n",
              "    </script>\n",
              "  </div>\n",
              "\n",
              "\n",
              "    <div id=\"df-adef4925-2023-49e8-9572-7487e1fcd9f8\">\n",
              "      <button class=\"colab-df-quickchart\" onclick=\"quickchart('df-adef4925-2023-49e8-9572-7487e1fcd9f8')\"\n",
              "                title=\"Suggest charts\"\n",
              "                style=\"display:none;\">\n",
              "\n",
              "<svg xmlns=\"http://www.w3.org/2000/svg\" height=\"24px\"viewBox=\"0 0 24 24\"\n",
              "     width=\"24px\">\n",
              "    <g>\n",
              "        <path d=\"M19 3H5c-1.1 0-2 .9-2 2v14c0 1.1.9 2 2 2h14c1.1 0 2-.9 2-2V5c0-1.1-.9-2-2-2zM9 17H7v-7h2v7zm4 0h-2V7h2v10zm4 0h-2v-4h2v4z\"/>\n",
              "    </g>\n",
              "</svg>\n",
              "      </button>\n",
              "\n",
              "<style>\n",
              "  .colab-df-quickchart {\n",
              "      --bg-color: #E8F0FE;\n",
              "      --fill-color: #1967D2;\n",
              "      --hover-bg-color: #E2EBFA;\n",
              "      --hover-fill-color: #174EA6;\n",
              "      --disabled-fill-color: #AAA;\n",
              "      --disabled-bg-color: #DDD;\n",
              "  }\n",
              "\n",
              "  [theme=dark] .colab-df-quickchart {\n",
              "      --bg-color: #3B4455;\n",
              "      --fill-color: #D2E3FC;\n",
              "      --hover-bg-color: #434B5C;\n",
              "      --hover-fill-color: #FFFFFF;\n",
              "      --disabled-bg-color: #3B4455;\n",
              "      --disabled-fill-color: #666;\n",
              "  }\n",
              "\n",
              "  .colab-df-quickchart {\n",
              "    background-color: var(--bg-color);\n",
              "    border: none;\n",
              "    border-radius: 50%;\n",
              "    cursor: pointer;\n",
              "    display: none;\n",
              "    fill: var(--fill-color);\n",
              "    height: 32px;\n",
              "    padding: 0;\n",
              "    width: 32px;\n",
              "  }\n",
              "\n",
              "  .colab-df-quickchart:hover {\n",
              "    background-color: var(--hover-bg-color);\n",
              "    box-shadow: 0 1px 2px rgba(60, 64, 67, 0.3), 0 1px 3px 1px rgba(60, 64, 67, 0.15);\n",
              "    fill: var(--button-hover-fill-color);\n",
              "  }\n",
              "\n",
              "  .colab-df-quickchart-complete:disabled,\n",
              "  .colab-df-quickchart-complete:disabled:hover {\n",
              "    background-color: var(--disabled-bg-color);\n",
              "    fill: var(--disabled-fill-color);\n",
              "    box-shadow: none;\n",
              "  }\n",
              "\n",
              "  .colab-df-spinner {\n",
              "    border: 2px solid var(--fill-color);\n",
              "    border-color: transparent;\n",
              "    border-bottom-color: var(--fill-color);\n",
              "    animation:\n",
              "      spin 1s steps(1) infinite;\n",
              "  }\n",
              "\n",
              "  @keyframes spin {\n",
              "    0% {\n",
              "      border-color: transparent;\n",
              "      border-bottom-color: var(--fill-color);\n",
              "      border-left-color: var(--fill-color);\n",
              "    }\n",
              "    20% {\n",
              "      border-color: transparent;\n",
              "      border-left-color: var(--fill-color);\n",
              "      border-top-color: var(--fill-color);\n",
              "    }\n",
              "    30% {\n",
              "      border-color: transparent;\n",
              "      border-left-color: var(--fill-color);\n",
              "      border-top-color: var(--fill-color);\n",
              "      border-right-color: var(--fill-color);\n",
              "    }\n",
              "    40% {\n",
              "      border-color: transparent;\n",
              "      border-right-color: var(--fill-color);\n",
              "      border-top-color: var(--fill-color);\n",
              "    }\n",
              "    60% {\n",
              "      border-color: transparent;\n",
              "      border-right-color: var(--fill-color);\n",
              "    }\n",
              "    80% {\n",
              "      border-color: transparent;\n",
              "      border-right-color: var(--fill-color);\n",
              "      border-bottom-color: var(--fill-color);\n",
              "    }\n",
              "    90% {\n",
              "      border-color: transparent;\n",
              "      border-bottom-color: var(--fill-color);\n",
              "    }\n",
              "  }\n",
              "</style>\n",
              "\n",
              "      <script>\n",
              "        async function quickchart(key) {\n",
              "          const quickchartButtonEl =\n",
              "            document.querySelector('#' + key + ' button');\n",
              "          quickchartButtonEl.disabled = true;  // To prevent multiple clicks.\n",
              "          quickchartButtonEl.classList.add('colab-df-spinner');\n",
              "          try {\n",
              "            const charts = await google.colab.kernel.invokeFunction(\n",
              "                'suggestCharts', [key], {});\n",
              "          } catch (error) {\n",
              "            console.error('Error during call to suggestCharts:', error);\n",
              "          }\n",
              "          quickchartButtonEl.classList.remove('colab-df-spinner');\n",
              "          quickchartButtonEl.classList.add('colab-df-quickchart-complete');\n",
              "        }\n",
              "        (() => {\n",
              "          let quickchartButtonEl =\n",
              "            document.querySelector('#df-adef4925-2023-49e8-9572-7487e1fcd9f8 button');\n",
              "          quickchartButtonEl.style.display =\n",
              "            google.colab.kernel.accessAllowed ? 'block' : 'none';\n",
              "        })();\n",
              "      </script>\n",
              "    </div>\n",
              "\n",
              "    </div>\n",
              "  </div>\n"
            ],
            "application/vnd.google.colaboratory.intrinsic+json": {
              "type": "dataframe",
              "variable_name": "df",
              "summary": "{\n  \"name\": \"df\",\n  \"rows\": 3000,\n  \"fields\": [\n    {\n      \"column\": \"Country\",\n      \"properties\": {\n        \"dtype\": \"category\",\n        \"num_unique_values\": 7,\n        \"samples\": [\n          \"Brazil\",\n          \"Australia\",\n          \"Canada\"\n        ],\n        \"semantic_type\": \"\",\n        \"description\": \"\"\n      }\n    },\n    {\n      \"column\": \"Age\",\n      \"properties\": {\n        \"dtype\": \"number\",\n        \"std\": 13,\n        \"min\": 18,\n        \"max\": 64,\n        \"num_unique_values\": 47,\n        \"samples\": [\n          57,\n          59,\n          56\n        ],\n        \"semantic_type\": \"\",\n        \"description\": \"\"\n      }\n    },\n    {\n      \"column\": \"Gender\",\n      \"properties\": {\n        \"dtype\": \"category\",\n        \"num_unique_values\": 3,\n        \"samples\": [\n          \"Male\",\n          \"Female\",\n          \"Other\"\n        ],\n        \"semantic_type\": \"\",\n        \"description\": \"\"\n      }\n    },\n    {\n      \"column\": \"Exercise Level\",\n      \"properties\": {\n        \"dtype\": \"category\",\n        \"num_unique_values\": 3,\n        \"samples\": [\n          \"Low\",\n          \"Moderate\",\n          \"High\"\n        ],\n        \"semantic_type\": \"\",\n        \"description\": \"\"\n      }\n    },\n    {\n      \"column\": \"Diet Type\",\n      \"properties\": {\n        \"dtype\": \"category\",\n        \"num_unique_values\": 5,\n        \"samples\": [\n          \"Vegan\",\n          \"Keto\",\n          \"Balanced\"\n        ],\n        \"semantic_type\": \"\",\n        \"description\": \"\"\n      }\n    },\n    {\n      \"column\": \"Sleep Hours\",\n      \"properties\": {\n        \"dtype\": \"number\",\n        \"std\": 1.4998657699935016,\n        \"min\": 1.4,\n        \"max\": 11.3,\n        \"num_unique_values\": 93,\n        \"samples\": [\n          6.2,\n          4.6,\n          4.1\n        ],\n        \"semantic_type\": \"\",\n        \"description\": \"\"\n      }\n    },\n    {\n      \"column\": \"Stress Level\",\n      \"properties\": {\n        \"dtype\": \"category\",\n        \"num_unique_values\": 3,\n        \"samples\": [\n          \"Low\",\n          \"High\",\n          \"Moderate\"\n        ],\n        \"semantic_type\": \"\",\n        \"description\": \"\"\n      }\n    },\n    {\n      \"column\": \"Mental Health Condition\",\n      \"properties\": {\n        \"dtype\": \"category\",\n        \"num_unique_values\": 4,\n        \"samples\": [\n          \"Depression\",\n          \"Bipolar\",\n          \"PTSD\"\n        ],\n        \"semantic_type\": \"\",\n        \"description\": \"\"\n      }\n    },\n    {\n      \"column\": \"Work Hours per Week\",\n      \"properties\": {\n        \"dtype\": \"number\",\n        \"std\": 11,\n        \"min\": 20,\n        \"max\": 59,\n        \"num_unique_values\": 40,\n        \"samples\": [\n          32,\n          25,\n          58\n        ],\n        \"semantic_type\": \"\",\n        \"description\": \"\"\n      }\n    },\n    {\n      \"column\": \"Screen Time per Day (Hours)\",\n      \"properties\": {\n        \"dtype\": \"number\",\n        \"std\": 1.7472314037017518,\n        \"min\": 2.0,\n        \"max\": 8.0,\n        \"num_unique_values\": 61,\n        \"samples\": [\n          4.0,\n          3.3,\n          5.1\n        ],\n        \"semantic_type\": \"\",\n        \"description\": \"\"\n      }\n    },\n    {\n      \"column\": \"Social Interaction Score\",\n      \"properties\": {\n        \"dtype\": \"number\",\n        \"std\": 2.5635319109813226,\n        \"min\": 1.0,\n        \"max\": 10.0,\n        \"num_unique_values\": 91,\n        \"samples\": [\n          7.0,\n          9.9,\n          1.3\n        ],\n        \"semantic_type\": \"\",\n        \"description\": \"\"\n      }\n    },\n    {\n      \"column\": \"Happiness Score\",\n      \"properties\": {\n        \"dtype\": \"number\",\n        \"std\": 2.557600979396936,\n        \"min\": 1.0,\n        \"max\": 10.0,\n        \"num_unique_values\": 91,\n        \"samples\": [\n          3.8,\n          7.8,\n          8.3\n        ],\n        \"semantic_type\": \"\",\n        \"description\": \"\"\n      }\n    }\n  ]\n}"
            }
          },
          "metadata": {},
          "execution_count": 83
        }
      ],
      "source": [
        "import pandas as pd\n",
        "import matplotlib.pyplot as plt\n",
        "import seaborn as sns\n",
        "from sklearn.model_selection import train_test_split\n",
        "from sklearn.linear_model import LogisticRegression\n",
        "from sklearn.metrics import accuracy_score, confusion_matrix, ConfusionMatrixDisplay\n",
        "from sklearn.metrics import classification_report\n",
        "\n",
        "# Load the dataset\n",
        "df = pd.read_csv('Mental_Health_Lifestyle_Dataset.csv')\n",
        "\n",
        "# Visualize some rows\n",
        "df.head()\n"
      ]
    },
    {
      "cell_type": "code",
      "source": [
        "# Read in as str\n",
        "df['Mental Health Condition'] = df['Mental Health Condition'].astype(str)\n",
        "\n",
        "# Defines binary label: 0 if it's 'nan' or 'none', 1 otherwise\n",
        "df['has_condition'] = df['Mental Health Condition'].apply(\n",
        "    lambda x: 0 if pd.isna(x) or x.strip().lower() == 'none' or x.strip().lower() == 'nan' else 1\n",
        ")\n",
        "\n",
        "print(df['has_condition'].value_counts())"
      ],
      "metadata": {
        "colab": {
          "base_uri": "https://localhost:8080/"
        },
        "id": "82Fs9BXWQqWK",
        "outputId": "40f25644-bb5e-43ca-e785-11ef02b3a500"
      },
      "execution_count": 88,
      "outputs": [
        {
          "output_type": "stream",
          "name": "stdout",
          "text": [
            "has_condition\n",
            "1    2405\n",
            "0     595\n",
            "Name: count, dtype: int64\n"
          ]
        }
      ]
    },
    {
      "cell_type": "markdown",
      "source": [
        "### Logistic Regression Model"
      ],
      "metadata": {
        "id": "zC08WvQv4O01"
      }
    },
    {
      "cell_type": "code",
      "source": [
        "# Choose some features to use for prediction\n",
        "features = ['Sleep Hours', 'Screen Time per Day (Hours)', 'Work Hours per Week', 'Social Interaction Score'] + categorical_cols\n",
        "X = df[features]\n",
        "y = df['has_condition']\n",
        "\n",
        "# Fix categorical columns to be usable types\n",
        "categorical_cols = ['Exercise Level', 'Stress Level', 'Diet Type']\n",
        "\n",
        "# Use pandas get_dummies to convert\n",
        "X = pd.get_dummies(df[categorical_cols])\n",
        "\n",
        "# Split into training and test data\n",
        "X_train, X_test, y_train, y_test = train_test_split(X, y, test_size=0.2, random_state=42)\n",
        "\n",
        "# Train model\n",
        "model = LogisticRegression(max_iter=1000, class_weight='balanced')\n",
        "model.fit(X_train, y_train)\n",
        "\n",
        "# Predict on test data\n",
        "y_pred = model.predict(X_test)\n",
        "\n",
        "# Evaluate accuracy\n",
        "accuracy = accuracy_score(y_test, y_pred)\n",
        "print(f\"Model Accuracy: {accuracy:.2f}\")\n",
        "print(classification_report(y_test, y_pred))\n",
        "\n",
        "# Show confusion matrix\n",
        "cm = confusion_matrix(y_test, y_pred)\n",
        "disp = ConfusionMatrixDisplay(confusion_matrix=cm)\n",
        "disp.plot()\n",
        "plt.show()\n"
      ],
      "metadata": {
        "colab": {
          "base_uri": "https://localhost:8080/",
          "height": 623
        },
        "id": "6gGOun_ikVw6",
        "outputId": "eed75da1-6222-49e1-ad68-13b876975921"
      },
      "execution_count": 98,
      "outputs": [
        {
          "output_type": "stream",
          "name": "stdout",
          "text": [
            "Model Accuracy: 0.54\n",
            "              precision    recall  f1-score   support\n",
            "\n",
            "           0       0.18      0.44      0.26       108\n",
            "           1       0.82      0.56      0.66       492\n",
            "\n",
            "    accuracy                           0.54       600\n",
            "   macro avg       0.50      0.50      0.46       600\n",
            "weighted avg       0.71      0.54      0.59       600\n",
            "\n"
          ]
        },
        {
          "output_type": "display_data",
          "data": {
            "text/plain": [
              "<Figure size 640x480 with 2 Axes>"
            ],
            "image/png": "[encoded data removed]"
          },
          "metadata": {}
        }
      ]
    },
    {
      "cell_type": "markdown",
      "source": [
        "### Random Forest Model"
      ],
      "metadata": {
        "id": "MU8XuNkH4Rvn"
      }
    },
    {
      "cell_type": "code",
      "source": [
        "from sklearn.ensemble import RandomForestClassifier\n",
        "import pandas as pd\n",
        "import numpy as np\n",
        "\n",
        "# Choose some features to use for prediction\n",
        "features = ['Sleep Hours', 'Screen Time per Day (Hours)', 'Work Hours per Week', 'Social Interaction Score'] + categorical_cols\n",
        "X = df[features]\n",
        "y = df['has_condition']\n",
        "\n",
        "# Fix categorical columns to be usable types\n",
        "categorical_cols = ['Exercise Level', 'Stress Level', 'Diet Type']\n",
        "\n",
        "# Use pandas get_dummies to convert\n",
        "X = pd.get_dummies(df[categorical_cols])\n",
        "\n",
        "# Split into training and test data\n",
        "X_train, X_test, y_train, y_test = train_test_split(X, y, test_size=0.2, random_state=42)\n",
        "\n",
        "# Train model\n",
        "model = RandomForestClassifier(class_weight='balanced', random_state=42, n_estimators=10, max_depth=7)\n",
        "model.fit(X_train, y_train)\n",
        "\n",
        "# Predict on test data\n",
        "y_pred = model.predict(X_test)\n",
        "\n",
        "# Evaluate accuracy\n",
        "accuracy = accuracy_score(y_test, y_pred)\n",
        "print(f\"Model Accuracy: {accuracy:.2f}\")\n",
        "print(classification_report(y_test, y_pred))\n",
        "\n",
        "# Show confusion matrix\n",
        "cm = confusion_matrix(y_test, y_pred)\n",
        "disp = ConfusionMatrixDisplay(confusion_matrix=cm)\n",
        "disp.plot()\n",
        "plt.show()\n",
        "\n",
        "# Importance\n",
        "importances = model.feature_importances_\n",
        "feature_names = X.columns\n",
        "importance_df = pd.DataFrame({'Feature': feature_names, 'Importance': importances})\n",
        "importance_df = importance_df.sort_values(by='Importance', ascending=False)\n",
        "\n",
        "print(importance_df.head(10))"
      ],
      "metadata": {
        "colab": {
          "base_uri": "https://localhost:8080/",
          "height": 813
        },
        "id": "GYRk9ePgRb4C",
        "outputId": "876c9f07-f077-4855-dfec-a80e0660d8af"
      },
      "execution_count": 94,
      "outputs": [
        {
          "output_type": "stream",
          "name": "stdout",
          "text": [
            "Model Accuracy: 0.57\n",
            "              precision    recall  f1-score   support\n",
            "\n",
            "           0       0.16      0.33      0.22       108\n",
            "           1       0.81      0.62      0.70       492\n",
            "\n",
            "    accuracy                           0.57       600\n",
            "   macro avg       0.49      0.48      0.46       600\n",
            "weighted avg       0.69      0.57      0.61       600\n",
            "\n"
          ]
        },
        {
          "output_type": "display_data",
          "data": {
            "text/plain": [
              "<Figure size 640x480 with 2 Axes>"
            ],
            "image/png": "[encoded data removed]"
          },
          "metadata": {}
        },
        {
          "output_type": "stream",
          "name": "stdout",
          "text": [
            "                   Feature  Importance\n",
            "2  Exercise Level_Moderate    0.160785\n",
            "5    Stress Level_Moderate    0.112261\n",
            "1       Exercise Level_Low    0.110117\n",
            "4         Stress Level_Low    0.106585\n",
            "8           Diet Type_Keto    0.091837\n",
            "0      Exercise Level_High    0.080878\n",
            "7      Diet Type_Junk Food    0.079096\n",
            "6       Diet Type_Balanced    0.070889\n",
            "3        Stress Level_High    0.068866\n",
            "9          Diet Type_Vegan    0.065408\n"
          ]
        }
      ]
    },
    {
      "cell_type": "markdown",
      "source": [
        "### XGBoost Model"
      ],
      "metadata": {
        "id": "KzapTbl_4V6O"
      }
    },
    {
      "cell_type": "code",
      "source": [
        "!pip install xgboost"
      ],
      "metadata": {
        "colab": {
          "base_uri": "https://localhost:8080/"
        },
        "id": "O_6IW1usd1ZN",
        "outputId": "c23e8e7c-66b3-4ce8-bb61-0ddc78c905a1"
      },
      "execution_count": 91,
      "outputs": [
        {
          "output_type": "stream",
          "name": "stdout",
          "text": [
            "Requirement already satisfied: xgboost in /usr/local/lib/python3.11/dist-packages (2.1.4)\n",
            "Requirement already satisfied: numpy in /usr/local/lib/python3.11/dist-packages (from xgboost) (2.0.2)\n",
            "Requirement already satisfied: nvidia-nccl-cu12 in /usr/local/lib/python3.11/dist-packages (from xgboost) (2.21.5)\n",
            "Requirement already satisfied: scipy in /usr/local/lib/python3.11/dist-packages (from xgboost) (1.15.3)\n"
          ]
        }
      ]
    },
    {
      "cell_type": "code",
      "source": [
        "from xgboost import XGBClassifier\n",
        "\n",
        "# Choose some features to use for prediction\n",
        "features = ['Sleep Hours', 'Screen Time per Day (Hours)', 'Work Hours per Week', 'Social Interaction Score'] + categorical_cols\n",
        "X = df[features]\n",
        "y = df['has_condition']\n",
        "\n",
        "# Fix categorical columns\n",
        "categorical_cols = ['Exercise Level', 'Stress Level', 'Diet Type']\n",
        "\n",
        "# Use pandas get_dummies to convert\n",
        "X = pd.get_dummies(df[categorical_cols])\n",
        "\n",
        "# Split into training and test data\n",
        "X_train, X_test, y_train, y_test = train_test_split(X, y, test_size=0.2, random_state=42)\n",
        "\n",
        "# Scale weight\n",
        "neg, pos = np.bincount(y_train)\n",
        "class_weight_ratio = neg / pos\n",
        "\n",
        "# Train Model\n",
        "model = XGBClassifier(\n",
        "    eval_metric='logloss',\n",
        "    scale_pos_weight=class_weight_ratio,\n",
        "    n_estimators=50,\n",
        "    max_depth=4,\n",
        "    learning_rate=0.01,\n",
        "    random_state=42\n",
        ")\n",
        "\n",
        "model.fit(X_train, y_train)\n",
        "y_pred = model.predict(X_test)\n",
        "\n",
        "# Accuracy\n",
        "print(\"Model Accuracy:\", accuracy_score(y_test, y_pred))\n",
        "print(classification_report(y_test, y_pred))\n",
        "print(\"Confusion Matrix:\\n\")\n",
        "cm = confusion_matrix(y_test, y_pred)\n",
        "disp = ConfusionMatrixDisplay(confusion_matrix=cm)\n",
        "disp.plot()\n",
        "plt.show()\n",
        "\n",
        "# Importance\n",
        "importances = model.feature_importances_\n",
        "feature_names = X.columns\n",
        "importance_df = pd.DataFrame({'Feature': feature_names, 'Importance': importances})\n",
        "importance_df = importance_df.sort_values(by='Importance', ascending=False)\n",
        "\n",
        "print(importance_df.head(10))"
      ],
      "metadata": {
        "colab": {
          "base_uri": "https://localhost:8080/",
          "height": 848
        },
        "id": "aB21dUO_eIGx",
        "outputId": "6031944a-6171-4e4b-a0a6-1dadffcc0141"
      },
      "execution_count": 96,
      "outputs": [
        {
          "output_type": "stream",
          "name": "stdout",
          "text": [
            "Model Accuracy: 0.535\n",
            "              precision    recall  f1-score   support\n",
            "\n",
            "           0       0.17      0.41      0.24       108\n",
            "           1       0.81      0.56      0.67       492\n",
            "\n",
            "    accuracy                           0.54       600\n",
            "   macro avg       0.49      0.49      0.45       600\n",
            "weighted avg       0.70      0.54      0.59       600\n",
            "\n",
            "Confusion Matrix:\n",
            "\n"
          ]
        },
        {
          "output_type": "display_data",
          "data": {
            "text/plain": [
              "<Figure size 640x480 with 2 Axes>"
            ],
            "image/png": "[encoded data removed]"
          },
          "metadata": {}
        },
        {
          "output_type": "stream",
          "name": "stdout",
          "text": [
            "                    Feature  Importance\n",
            "2   Exercise Level_Moderate    0.194860\n",
            "5     Stress Level_Moderate    0.149067\n",
            "10     Diet Type_Vegetarian    0.144836\n",
            "1        Exercise Level_Low    0.138874\n",
            "7       Diet Type_Junk Food    0.114980\n",
            "9           Diet Type_Vegan    0.111127\n",
            "6        Diet Type_Balanced    0.078517\n",
            "0       Exercise Level_High    0.035712\n",
            "3         Stress Level_High    0.032026\n",
            "4          Stress Level_Low    0.000000\n"
          ]
        }
      ]
    },
    {
      "cell_type": "markdown",
      "source": [
        "**Results**\n",
        "\n",
        "The RandomForest model performed best, with an accuracy score of 0.57, while the other models had similar accuracy scores of 0.54. Interestingly, the Logistic Regression model had the best precision, recall, and f1 scores for predicting the absence of mental health issues, while the RandomForest model had the highest scores for predicting the presence of mental health conditions.\n",
        "\n",
        "The heavy imbalance of the dataset, with significantly fewer \"none\" values than mental health condition values, presented a challenge in promoting honesty in the model, and much more accurate, albeit flawed, predictions were made if the model simply guessed \"yes\" in every instance. In addition, the relatively small sample size was also a heavy limitation."
      ],
      "metadata": {
        "id": "mi-OIFHr4zDe"
      }
    },
    {
      "cell_type": "markdown",
      "source": [
        "**Conclusions**\n",
        "\n",
        "The models were ultimately  successful at predicting the presence of mental health conditions based on lifestyle, but struggled to separate instances with no mental health conditions. The categories of exercise and stress were the most highly valued by the models, potnetially indicating an area worth exploring further. Although basic, this project could be developed into a program that predicts risk of mental health conditions in patients with varying lifestyle factors, similar to cardiovascular risk assessments. Before any further application, however, significant improvements in accuracy must be made. This could be accomplished by inputting larger sample sizes, tweaking splitting ratios, or the use of more advanced models."
      ],
      "metadata": {
        "id": "hsYyUmrr6QNL"
      }
    }
  ]
}